{
  "nbformat": 4,
  "nbformat_minor": 0,
  "metadata": {
    "colab": {
      "provenance": []
    },
    "kernelspec": {
      "name": "python3",
      "display_name": "Python 3"
    },
    "language_info": {
      "name": "python"
    }
  },
  "cells": [
    {
      "cell_type": "code",
      "execution_count": 1,
      "metadata": {
        "colab": {
          "base_uri": "https://localhost:8080/"
        },
        "id": "f0RlQgR7aVhV",
        "outputId": "5df4930f-0df3-41fd-abac-06d5fc5555e8"
      },
      "outputs": [
        {
          "output_type": "stream",
          "name": "stdout",
          "text": [
            "I'm a student.\n"
          ]
        }
      ],
      "source": [
        "print(\"I'm a student.\")"
      ]
    },
    {
      "cell_type": "code",
      "source": [
        "import math\n",
        "x1=float(input())\n",
        "y1=float(input())\n",
        "x2=float(input())\n",
        "y2=float(input())\n",
        "Distance=(x1-x2)**2+(y1-y2)**2\n",
        "print(math.sqrt(Distance))"
      ],
      "metadata": {
        "colab": {
          "base_uri": "https://localhost:8080/"
        },
        "id": "R49-A10LcJ9G",
        "outputId": "9d7bc87b-50b9-43a8-c16f-ee95e427cfb1"
      },
      "execution_count": 3,
      "outputs": [
        {
          "output_type": "stream",
          "name": "stdout",
          "text": [
            "3\n",
            "2\n",
            "3\n",
            "4\n",
            "2.0\n"
          ]
        }
      ]
    },
    {
      "cell_type": "code",
      "source": [
        "height=float(input())\n",
        "weight=float(input())\n",
        "height*=height\n",
        "weight/=height\n",
        "print(int(weight<18.5))"
      ],
      "metadata": {
        "colab": {
          "base_uri": "https://localhost:8080/"
        },
        "id": "H4qtscMAlsYu",
        "outputId": "4471864c-2c0f-4e9a-e4a8-6ef56e49f733"
      },
      "execution_count": 4,
      "outputs": [
        {
          "output_type": "stream",
          "name": "stdout",
          "text": [
            "1.8\n",
            "50\n",
            "1\n"
          ]
        }
      ]
    }
  ]
}