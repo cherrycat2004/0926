{
  "nbformat": 4,
  "nbformat_minor": 0,
  "metadata": {
    "colab": {
      "provenance": []
    },
    "kernelspec": {
      "name": "python3",
      "display_name": "Python 3"
    },
    "language_info": {
      "name": "python"
    }
  },
  "cells": [
    {
      "cell_type": "code",
      "execution_count": null,
      "metadata": {
        "colab": {
          "base_uri": "https://localhost:8080/"
        },
        "id": "9WhgyD8gevnU",
        "outputId": "2a735daf-9506-4e2a-f507-195ae46c67cd"
      },
      "outputs": [
        {
          "output_type": "stream",
          "name": "stdout",
          "text": [
            "Hello world!!!!!!!!!!!!!!!!\n"
          ]
        }
      ],
      "source": [
        "x=('Hello world!!!!!!!!!!!!!!!!')\n",
        "print(x)\n"
      ]
    }
  ]
}